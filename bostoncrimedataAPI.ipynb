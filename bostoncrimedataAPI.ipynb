{
 "cells": [
  {
   "cell_type": "code",
   "execution_count": 170,
   "metadata": {
    "collapsed": true
   },
   "outputs": [],
   "source": [
    "import json\n",
    "import urllib.request\n",
    "import pandas as pd\n",
    "import matplotlib.pyplot as plt\n",
    "import numpy as np\n",
    "%matplotlib inline "
   ]
  },
  {
   "cell_type": "code",
   "execution_count": 129,
   "metadata": {
    "collapsed": false
   },
   "outputs": [],
   "source": [
    "response = urllib.request.urlopen(\"https://data.seattle.gov/resource/3k2p-39jp.json?$$app_token=bliCrIUruW7dINqHxu7yZBd3k\")\n",
    "raw_data = json.loads(response.read().decode('utf-8'))"
   ]
  },
  {
   "cell_type": "code",
   "execution_count": 130,
   "metadata": {
    "collapsed": false
   },
   "outputs": [
    {
     "data": {
      "text/plain": [
       "{'at_scene_time': '2015-02-01T00:20:00',\n",
       " 'cad_cdw_id': '581875',\n",
       " 'cad_event_number': '15000035997',\n",
       " 'census_tract': '9200.2014',\n",
       " 'district_sector': 'K',\n",
       " 'general_offense_number': '201535997',\n",
       " 'hundred_block_location': '3 AV S / S WASHINGTON ST',\n",
       " 'incident_location': {'latitude': '47.600875809',\n",
       "  'longitude': '-122.330271593',\n",
       "  'needs_recoding': False},\n",
       " 'initial_type_description': 'AUTO THEFT - VEH THEFT OR THEFT AND RECOVERY',\n",
       " 'initial_type_group': 'AUTO RECOVERIES',\n",
       " 'initial_type_subgroup': 'AUTO THEFTS',\n",
       " 'latitude': '47.600875809',\n",
       " 'longitude': '-122.330271593',\n",
       " 'zone_beat': 'K3'}"
      ]
     },
     "execution_count": 130,
     "metadata": {},
     "output_type": "execute_result"
    }
   ],
   "source": [
    "raw_data[0]"
   ]
  },
  {
   "cell_type": "code",
   "execution_count": 131,
   "metadata": {
    "collapsed": false
   },
   "outputs": [
    {
     "name": "stdout",
     "output_type": "stream",
     "text": [
      "hundred_block_location <class 'str'>\n",
      "longitude <class 'str'>\n",
      "at_scene_time <class 'str'>\n",
      "initial_type_subgroup <class 'str'>\n",
      "latitude <class 'str'>\n",
      "census_tract <class 'str'>\n",
      "general_offense_number <class 'str'>\n",
      "initial_type_group <class 'str'>\n",
      "cad_event_number <class 'str'>\n",
      "zone_beat <class 'str'>\n",
      "initial_type_description <class 'str'>\n",
      "cad_cdw_id <class 'str'>\n",
      "district_sector <class 'str'>\n",
      "incident_location <class 'str'>\n"
     ]
    }
   ],
   "source": [
    "for key in raw_data[2]:\n",
    "    print(key+' '+str(type(key)))"
   ]
  },
  {
   "cell_type": "code",
   "execution_count": 132,
   "metadata": {
    "collapsed": false
   },
   "outputs": [],
   "source": [
    "inc_type = {}\n",
    "for s in raw_data:\n",
    "    if 'initial_type_description' in s:\n",
    "        inc_typeeach = s['initial_type_description']\n",
    "        inc_type[inc_typeeach] = inc_type.get(inc_typeeach,1) + 1"
   ]
  },
  {
   "cell_type": "markdown",
   "metadata": {},
   "source": [
    "to confirm that the key name is initial_type_description instead of incident_type_description, do the followings"
   ]
  },
  {
   "cell_type": "code",
   "execution_count": 133,
   "metadata": {
    "collapsed": true
   },
   "outputs": [],
   "source": [
    "cn = 0\n",
    "for s in raw_data:\n",
    "    if 'incident_type_description' in s:\n",
    "        cn += 1"
   ]
  },
  {
   "cell_type": "code",
   "execution_count": 134,
   "metadata": {
    "collapsed": false
   },
   "outputs": [
    {
     "name": "stdout",
     "output_type": "stream",
     "text": [
      "AUTO RECOVERY\n",
      "UNKNOWN - COMPLAINT OF UNKNOWN NATURE\n",
      "TRAFFIC STOP - OFFICER INITIATED ONVIEW\n",
      "HARAS - NO BIAS, THREATS OR MALICIOUSNESS\n",
      "FOLLOW UP\n",
      "THEFT (DOES NOT INCLUDE SHOPLIFT OR SVCS)\n",
      "SUSPICIOUS PERSON, VEHICLE OR INCIDENT\n",
      "SUSPICIOUS STOP - OFFICER INITIATED ONVIEW\n",
      "FRAUD - FORGERY,BUNCO, SCAMS, ID THEFT, ETC\n",
      "ASLT - IP/JO - WITH OR W/O WPNS (NO SHOOTINGS)\n",
      "NARCOTICS - VIOLATIONS (LOITER, USE, SELL, NARS)\n",
      "THREATS (INCLS IN-PERSON/BY PHONE/IN WRITING)\n",
      "ASLT - WITH OR W/O WEAPONS (NO SHOOTINGS)\n",
      "FIGHT - VERBAL/ORAL (NO WEAPONS)\n",
      "BURG - RES (INCL UNOCC STRUCTURES ON PROP)\n",
      "PROPERTY - DAMAGE\n",
      "DISTURBANCE, MISCELLANEOUS/OTHER\n",
      "FIGHT - IP - PHYSICAL (NO WEAPONS)\n",
      "OVERDOSE - DRUG RELATED CASUALTY\n",
      "PROPERTY - FOUND\n"
     ]
    }
   ],
   "source": [
    "for s in inc_type.keys():\n",
    "    if inc_type[s] > 10:\n",
    "        print(s),"
   ]
  },
  {
   "cell_type": "code",
   "execution_count": 135,
   "metadata": {
    "collapsed": false
   },
   "outputs": [
    {
     "data": {
      "text/plain": [
       "<Container object of 89 artists>"
      ]
     },
     "execution_count": 135,
     "metadata": {},
     "output_type": "execute_result"
    },
    {
     "data": {
      "image/png": "[encoded data removed]",
      "text/plain": [
       "<matplotlib.figure.Figure at 0x112092ac8>"
      ]
     },
     "metadata": {},
     "output_type": "display_data"
    }
   ],
   "source": [
    "plt.bar(range(len(inc_type)), list(inc_type.values()))"
   ]
  },
  {
   "cell_type": "code",
   "execution_count": 136,
   "metadata": {
    "collapsed": true
   },
   "outputs": [],
   "source": [
    "ins_list2rep = ['HARAS - NO BIAS, THREATS OR MALICIOUSNESS', 'FOLLOW UP', 'SUSPICIOUS PERSON, VEHICLE OR INCIDENT'\n",
    "                , 'ASLT - IP/JO - WITH OR W/O WPNS (NO SHOOTINGS)', 'THREATS (INCLS IN-PERSON/BY PHONE/IN WRITING)'\n",
    "                , 'ASLT - WITH OR W/O WEAPONS (NO SHOOTINGS)', 'FIGHT - VERBAL/ORAL (NO WEAPONS)'\n",
    "                , 'FIGHT - IP - PHYSICAL (NO WEAPONS)']"
   ]
  },
  {
   "cell_type": "markdown",
   "metadata": {},
   "source": [
    "get the prob of each of these incident"
   ]
  },
  {
   "cell_type": "code",
   "execution_count": 137,
   "metadata": {
    "collapsed": false
   },
   "outputs": [],
   "source": [
    "ins_total = sum(list(inc_type.values()))"
   ]
  },
  {
   "cell_type": "code",
   "execution_count": 138,
   "metadata": {
    "collapsed": false
   },
   "outputs": [],
   "source": [
    "ins_prob = [inc_type[s]/ins_total for s in inc_type.keys() if s in ins_list2rep]"
   ]
  },
  {
   "cell_type": "code",
   "execution_count": 142,
   "metadata": {
    "collapsed": false
   },
   "outputs": [],
   "source": [
    "longitude, latitude = [], []\n",
    "for s in raw_data:\n",
    "    if 'initial_type_description' in s.keys():\n",
    "        if s['initial_type_description'] in ins_list2rep:\n",
    "            longitude.append(s['longitude'])\n",
    "            latitude.append(s['latitude'])"
   ]
  },
  {
   "cell_type": "code",
   "execution_count": 148,
   "metadata": {
    "collapsed": false
   },
   "outputs": [],
   "source": [
    "GPSco = open('GPSco.txt', 'w')\n",
    "for i in range(len(longitude)):\n",
    "  GPSco.write(\"{}, {};\".format(latitude[i], longitude[i]))"
   ]
  },
  {
   "cell_type": "code",
   "execution_count": 159,
   "metadata": {
    "collapsed": true
   },
   "outputs": [],
   "source": [
    "from math import radians, cos, sin, asin, sqrt\n",
    "def haversine(lon1, lat1, lon2, lat2):\n",
    "    \"\"\"\n",
    "    Calculate the great circle distance between two points \n",
    "    on the earth (specified in decimal degrees)\n",
    "    \"\"\"\n",
    "    # convert decimal degrees to radians \n",
    "    lon1, lat1, lon2, lat2 = map(radians, [lon1, lat1, lon2, lat2])\n",
    "    # haversine formula \n",
    "    dlon = lon2 - lon1 \n",
    "    dlat = lat2 - lat1 \n",
    "    a = sin(dlat/2)**2 + cos(lat1) * cos(lat2) * sin(dlon/2)**2\n",
    "    c = 2 * asin(sqrt(a)) \n",
    "    km = 6367 * c\n",
    "    return km"
   ]
  },
  {
   "cell_type": "code",
   "execution_count": 163,
   "metadata": {
    "collapsed": false
   },
   "outputs": [],
   "source": [
    "dis_lim = 1;\n",
    "neigh_num = []\n",
    "long = [float(x) for x in longitude]\n",
    "lati = [float(x) for x in latitude]\n",
    "for i in range(len(long)):\n",
    "    dis = []\n",
    "    for j in range(i+1,len(long)):\n",
    "        dis.append(haversine(long[i],lati[i],long[j],lati[j]))\n",
    "    neigh_num.append(sum([x <= dis_lim for x in dis]))"
   ]
  },
  {
   "cell_type": "code",
   "execution_count": 164,
   "metadata": {
    "collapsed": false
   },
   "outputs": [
    {
     "data": {
      "text/plain": [
       "[5,\n",
       " 4,\n",
       " 1,\n",
       " 4,\n",
       " 1,\n",
       " 4,\n",
       " 2,\n",
       " 13,\n",
       " 2,\n",
       " 26,\n",
       " 11,\n",
       " 16,\n",
       " 4,\n",
       " 1,\n",
       " 48,\n",
       " 47,\n",
       " 3,\n",
       " 6,\n",
       " 39,\n",
       " 18,\n",
       " 1,\n",
       " 8,\n",
       " 12,\n",
       " 1,\n",
       " 1,\n",
       " 24,\n",
       " 10,\n",
       " 12,\n",
       " 1,\n",
       " 5,\n",
       " 28,\n",
       " 12,\n",
       " 3,\n",
       " 60,\n",
       " 27,\n",
       " 2,\n",
       " 1,\n",
       " 2,\n",
       " 12,\n",
       " 36,\n",
       " 5,\n",
       " 12,\n",
       " 9,\n",
       " 31,\n",
       " 45,\n",
       " 4,\n",
       " 2,\n",
       " 35,\n",
       " 39,\n",
       " 24,\n",
       " 2,\n",
       " 34,\n",
       " 1,\n",
       " 0,\n",
       " 3,\n",
       " 1,\n",
       " 1,\n",
       " 12,\n",
       " 28,\n",
       " 12,\n",
       " 1,\n",
       " 0,\n",
       " 12,\n",
       " 57,\n",
       " 4,\n",
       " 0,\n",
       " 2,\n",
       " 39,\n",
       " 8,\n",
       " 0,\n",
       " 3,\n",
       " 4,\n",
       " 10,\n",
       " 1,\n",
       " 0,\n",
       " 3,\n",
       " 12,\n",
       " 10,\n",
       " 7,\n",
       " 5,\n",
       " 8,\n",
       " 9,\n",
       " 38,\n",
       " 23,\n",
       " 22,\n",
       " 3,\n",
       " 11,\n",
       " 4,\n",
       " 1,\n",
       " 2,\n",
       " 2,\n",
       " 39,\n",
       " 36,\n",
       " 34,\n",
       " 11,\n",
       " 1,\n",
       " 14,\n",
       " 51,\n",
       " 3,\n",
       " 21,\n",
       " 3,\n",
       " 5,\n",
       " 2,\n",
       " 1,\n",
       " 18,\n",
       " 2,\n",
       " 3,\n",
       " 34,\n",
       " 11,\n",
       " 33,\n",
       " 3,\n",
       " 3,\n",
       " 4,\n",
       " 17,\n",
       " 20,\n",
       " 4,\n",
       " 3,\n",
       " 7,\n",
       " 4,\n",
       " 1,\n",
       " 7,\n",
       " 6,\n",
       " 2,\n",
       " 4,\n",
       " 8,\n",
       " 3,\n",
       " 3,\n",
       " 16,\n",
       " 30,\n",
       " 7,\n",
       " 2,\n",
       " 32,\n",
       " 32,\n",
       " 3,\n",
       " 20,\n",
       " 7,\n",
       " 0,\n",
       " 6,\n",
       " 15,\n",
       " 32,\n",
       " 5,\n",
       " 6,\n",
       " 8,\n",
       " 8,\n",
       " 29,\n",
       " 29,\n",
       " 19,\n",
       " 1,\n",
       " 1,\n",
       " 34,\n",
       " 4,\n",
       " 2,\n",
       " 4,\n",
       " 3,\n",
       " 44,\n",
       " 32,\n",
       " 2,\n",
       " 0,\n",
       " 18,\n",
       " 17,\n",
       " 25,\n",
       " 16,\n",
       " 46,\n",
       " 15,\n",
       " 29,\n",
       " 6,\n",
       " 2,\n",
       " 4,\n",
       " 4,\n",
       " 5,\n",
       " 1,\n",
       " 2,\n",
       " 14,\n",
       " 14,\n",
       " 1,\n",
       " 26,\n",
       " 3,\n",
       " 20,\n",
       " 5,\n",
       " 2,\n",
       " 14,\n",
       " 0,\n",
       " 4,\n",
       " 2,\n",
       " 9,\n",
       " 0,\n",
       " 0,\n",
       " 5,\n",
       " 0,\n",
       " 4,\n",
       " 25,\n",
       " 25,\n",
       " 22,\n",
       " 1,\n",
       " 22,\n",
       " 1,\n",
       " 6,\n",
       " 2,\n",
       " 21,\n",
       " 21,\n",
       " 17,\n",
       " 0,\n",
       " 21,\n",
       " 3,\n",
       " 13,\n",
       " 0,\n",
       " 13,\n",
       " 3,\n",
       " 12,\n",
       " 20,\n",
       " 1,\n",
       " 3,\n",
       " 0,\n",
       " 0,\n",
       " 21,\n",
       " 2,\n",
       " 8,\n",
       " 12,\n",
       " 6,\n",
       " 1,\n",
       " 2,\n",
       " 18,\n",
       " 2,\n",
       " 1,\n",
       " 17,\n",
       " 11,\n",
       " 0,\n",
       " 3,\n",
       " 21,\n",
       " 2,\n",
       " 0,\n",
       " 7,\n",
       " 34,\n",
       " 3,\n",
       " 4,\n",
       " 10,\n",
       " 0,\n",
       " 21,\n",
       " 15,\n",
       " 14,\n",
       " 13,\n",
       " 1,\n",
       " 2,\n",
       " 10,\n",
       " 21,\n",
       " 9,\n",
       " 3,\n",
       " 4,\n",
       " 1,\n",
       " 0,\n",
       " 20,\n",
       " 2,\n",
       " 8,\n",
       " 0,\n",
       " 0,\n",
       " 0,\n",
       " 1,\n",
       " 19,\n",
       " 18,\n",
       " 7,\n",
       " 13,\n",
       " 0,\n",
       " 13,\n",
       " 0,\n",
       " 3,\n",
       " 0,\n",
       " 3,\n",
       " 10,\n",
       " 16,\n",
       " 0,\n",
       " 0,\n",
       " 9,\n",
       " 11,\n",
       " 0,\n",
       " 10,\n",
       " 15,\n",
       " 9,\n",
       " 0,\n",
       " 1,\n",
       " 0,\n",
       " 8,\n",
       " 8,\n",
       " 1,\n",
       " 0,\n",
       " 9,\n",
       " 1,\n",
       " 0,\n",
       " 5,\n",
       " 9,\n",
       " 0,\n",
       " 5,\n",
       " 7,\n",
       " 3,\n",
       " 1,\n",
       " 8,\n",
       " 11,\n",
       " 6,\n",
       " 6,\n",
       " 7,\n",
       " 0,\n",
       " 0,\n",
       " 1,\n",
       " 4,\n",
       " 1,\n",
       " 10,\n",
       " 5,\n",
       " 1,\n",
       " 0,\n",
       " 0,\n",
       " 0,\n",
       " 0,\n",
       " 9,\n",
       " 5,\n",
       " 0,\n",
       " 0,\n",
       " 0,\n",
       " 0,\n",
       " 7,\n",
       " 10,\n",
       " 4,\n",
       " 2,\n",
       " 0,\n",
       " 1,\n",
       " 4,\n",
       " 0,\n",
       " 0,\n",
       " 0,\n",
       " 4,\n",
       " 7,\n",
       " 6,\n",
       " 0,\n",
       " 2,\n",
       " 1,\n",
       " 0,\n",
       " 0,\n",
       " 0,\n",
       " 0,\n",
       " 4,\n",
       " 2,\n",
       " 5,\n",
       " 2,\n",
       " 3,\n",
       " 6,\n",
       " 3,\n",
       " 1,\n",
       " 0,\n",
       " 1,\n",
       " 0,\n",
       " 0,\n",
       " 0,\n",
       " 0,\n",
       " 0,\n",
       " 5,\n",
       " 0,\n",
       " 2,\n",
       " 3,\n",
       " 1,\n",
       " 4,\n",
       " 3,\n",
       " 2,\n",
       " 0,\n",
       " 4,\n",
       " 0,\n",
       " 0,\n",
       " 4,\n",
       " 1,\n",
       " 2,\n",
       " 1,\n",
       " 0,\n",
       " 4,\n",
       " 1,\n",
       " 1,\n",
       " 0,\n",
       " 2,\n",
       " 0,\n",
       " 0,\n",
       " 0,\n",
       " 1,\n",
       " 0,\n",
       " 0,\n",
       " 0,\n",
       " 0,\n",
       " 0]"
      ]
     },
     "execution_count": 164,
     "metadata": {},
     "output_type": "execute_result"
    }
   ],
   "source": [
    "neigh_num"
   ]
  },
  {
   "cell_type": "markdown",
   "metadata": {},
   "source": [
    "try to do clustering on hot spots"
   ]
  },
  {
   "cell_type": "code",
   "execution_count": 185,
   "metadata": {
    "collapsed": false
   },
   "outputs": [
    {
     "data": {
      "text/plain": [
       "[[-122.295370641, 47.563805602],\n",
       " [-122.386778535, 47.561104368],\n",
       " [-122.29516869, 47.678505415],\n",
       " [-122.293157653, 47.612937729],\n",
       " [-122.394045718, 47.662684863]]"
      ]
     },
     "execution_count": 185,
     "metadata": {},
     "output_type": "execute_result"
    }
   ],
   "source": [
    "X = [[long[i],lati[i]] for i in range(len(long))]\n",
    "X[0:5]"
   ]
  },
  {
   "cell_type": "code",
   "execution_count": 168,
   "metadata": {
    "collapsed": true
   },
   "outputs": [],
   "source": [
    "from sklearn.cluster import DBSCAN\n",
    "from sklearn import metrics\n",
    "from sklearn.datasets.samples_generator import make_blobs\n",
    "from sklearn.preprocessing import StandardScaler"
   ]
  },
  {
   "cell_type": "code",
   "execution_count": 187,
   "metadata": {
    "collapsed": false
   },
   "outputs": [
    {
     "data": {
      "text/plain": [
       "'\\nprint(\\'Estimated number of clusters: %d\\' % n_clusters_)\\nprint(\"Homogeneity: %0.3f\" % metrics.homogeneity_score(labels_true, labels))\\nprint(\"Completeness: %0.3f\" % metrics.completeness_score(labels_true, labels))\\nprint(\"V-measure: %0.3f\" % metrics.v_measure_score(labels_true, labels))\\nprint(\"Adjusted Rand Index: %0.3f\"\\n      % metrics.adjusted_rand_score(labels_true, labels))\\nprint(\"Adjusted Mutual Information: %0.3f\"\\n      % metrics.adjusted_mutual_info_score(labels_true, labels))\\nprint(\"Silhouette Coefficient: %0.3f\"\\n      % metrics.silhouette_score(X, labels))\\n      '"
      ]
     },
     "execution_count": 187,
     "metadata": {},
     "output_type": "execute_result"
    }
   ],
   "source": [
    "db = DBSCAN(eps=10, min_samples=5).fit(X)\n",
    "core_samples_mask = np.zeros_like(db.labels_, dtype=bool)\n",
    "core_samples_mask[db.core_sample_indices_] = True\n",
    "labels = db.labels_\n",
    "\n",
    "# Number of clusters in labels, ignoring noise if present.\n",
    "n_clusters_ = len(set(labels)) - (1 if -1 in labels else 0)\n",
    "\n",
    "'''\n",
    "print('Estimated number of clusters: %d' % n_clusters_)\n",
    "print(\"Homogeneity: %0.3f\" % metrics.homogeneity_score(labels_true, labels))\n",
    "print(\"Completeness: %0.3f\" % metrics.completeness_score(labels_true, labels))\n",
    "print(\"V-measure: %0.3f\" % metrics.v_measure_score(labels_true, labels))\n",
    "print(\"Adjusted Rand Index: %0.3f\"\n",
    "      % metrics.adjusted_rand_score(labels_true, labels))\n",
    "print(\"Adjusted Mutual Information: %0.3f\"\n",
    "      % metrics.adjusted_mutual_info_score(labels_true, labels))\n",
    "print(\"Silhouette Coefficient: %0.3f\"\n",
    "      % metrics.silhouette_score(X, labels))\n",
    "      '''"
   ]
  },
  {
   "cell_type": "code",
   "execution_count": 188,
   "metadata": {
    "collapsed": false
   },
   "outputs": [
    {
     "ename": "TypeError",
     "evalue": "only integer arrays with one element can be converted to an index",
     "output_type": "error",
     "traceback": [
      "\u001b[0;31m---------------------------------------------------------------------------\u001b[0m",
      "\u001b[0;31mTypeError\u001b[0m                                 Traceback (most recent call last)",
      "\u001b[0;32m<ipython-input-188-d63ee70125bf>\u001b[0m in \u001b[0;36m<module>\u001b[0;34m()\u001b[0m\n\u001b[1;32m     11\u001b[0m     \u001b[0mclass_member_mask\u001b[0m \u001b[0;34m=\u001b[0m \u001b[0;34m(\u001b[0m\u001b[0mlabels\u001b[0m \u001b[0;34m==\u001b[0m \u001b[0mk\u001b[0m\u001b[0;34m)\u001b[0m\u001b[0;34m\u001b[0m\u001b[0m\n\u001b[1;32m     12\u001b[0m \u001b[0;34m\u001b[0m\u001b[0m\n\u001b[0;32m---> 13\u001b[0;31m     \u001b[0mxy\u001b[0m \u001b[0;34m=\u001b[0m \u001b[0mX\u001b[0m\u001b[0;34m[\u001b[0m\u001b[0mclass_member_mask\u001b[0m \u001b[0;34m&\u001b[0m \u001b[0mcore_samples_mask\u001b[0m\u001b[0;34m]\u001b[0m\u001b[0;34m\u001b[0m\u001b[0m\n\u001b[0m\u001b[1;32m     14\u001b[0m     plt.plot(xy[:, 0], xy[:, 1], 'o', markerfacecolor=col,\n\u001b[1;32m     15\u001b[0m              markeredgecolor='k', markersize=14)\n",
      "\u001b[0;31mTypeError\u001b[0m: only integer arrays with one element can be converted to an index"
     ]
    }
   ],
   "source": [
    "import matplotlib.pyplot as plt\n",
    "\n",
    "# Black removed and is used for noise instead.\n",
    "unique_labels = set(labels)\n",
    "colors = plt.cm.Spectral(np.linspace(0, 1, len(unique_labels)))\n",
    "for k, col in zip(unique_labels, colors):\n",
    "    if k == -1:\n",
    "        # Black used for noise.\n",
    "        col = 'k'\n",
    "\n",
    "    class_member_mask = (labels == k)\n",
    "\n",
    "    xy = X[class_member_mask & core_samples_mask]\n",
    "    plt.plot(xy[:, 0], xy[:, 1], 'o', markerfacecolor=col,\n",
    "             markeredgecolor='k', markersize=14)\n",
    "\n",
    "    xy = X[class_member_mask & ~core_samples_mask]\n",
    "    plt.plot(xy[:, 0], xy[:, 1], 'o', markerfacecolor=col,\n",
    "             markeredgecolor='k', markersize=6)\n",
    "\n",
    "plt.title('Estimated number of clusters: %d' % n_clusters_)\n",
    "plt.show()"
   ]
  },
  {
   "cell_type": "code",
   "execution_count": 189,
   "metadata": {
    "collapsed": false
   },
   "outputs": [
    {
     "data": {
      "text/plain": [
       "[array([ True,  True,  True,  True,  True,  True,  True,  True,  True,\n",
       "         True,  True,  True,  True,  True,  True,  True,  True,  True,\n",
       "         True,  True,  True,  True,  True,  True,  True,  True,  True,\n",
       "         True,  True,  True,  True,  True,  True,  True,  True,  True,\n",
       "         True,  True,  True,  True,  True,  True,  True,  True,  True,\n",
       "         True,  True,  True,  True,  True,  True,  True,  True,  True,\n",
       "         True,  True,  True,  True,  True,  True,  True,  True,  True,\n",
       "         True,  True,  True,  True,  True,  True,  True,  True,  True,\n",
       "         True,  True,  True,  True,  True,  True,  True,  True,  True,\n",
       "         True,  True,  True,  True,  True,  True,  True,  True,  True,\n",
       "         True,  True,  True,  True,  True,  True,  True,  True,  True,\n",
       "         True,  True,  True,  True,  True,  True,  True,  True,  True,\n",
       "         True,  True,  True,  True,  True,  True,  True,  True,  True,\n",
       "         True,  True,  True,  True,  True,  True,  True,  True,  True,\n",
       "         True,  True,  True,  True,  True,  True,  True,  True,  True,\n",
       "         True,  True,  True,  True,  True,  True,  True,  True,  True,\n",
       "         True,  True,  True,  True,  True,  True,  True,  True,  True,\n",
       "         True,  True,  True,  True,  True,  True,  True,  True,  True,\n",
       "         True,  True,  True,  True,  True,  True,  True,  True,  True,\n",
       "         True,  True,  True,  True,  True,  True,  True,  True,  True,\n",
       "         True,  True,  True,  True,  True,  True,  True,  True,  True,\n",
       "         True,  True,  True,  True,  True,  True,  True,  True,  True,\n",
       "         True,  True,  True,  True,  True,  True,  True,  True,  True,\n",
       "         True,  True,  True,  True,  True,  True,  True,  True,  True,\n",
       "         True,  True,  True,  True,  True,  True,  True,  True,  True,\n",
       "         True,  True,  True,  True,  True,  True,  True,  True,  True,\n",
       "         True,  True,  True,  True,  True,  True,  True,  True,  True,\n",
       "         True,  True,  True,  True,  True,  True,  True,  True,  True,\n",
       "         True,  True,  True,  True,  True,  True,  True,  True,  True,\n",
       "         True,  True,  True,  True,  True,  True,  True,  True,  True,\n",
       "         True,  True,  True,  True,  True,  True,  True,  True,  True,\n",
       "         True,  True,  True,  True,  True,  True,  True,  True,  True,\n",
       "         True,  True,  True,  True,  True,  True,  True,  True,  True,\n",
       "         True,  True,  True,  True,  True,  True,  True,  True,  True,\n",
       "         True,  True,  True,  True,  True,  True,  True,  True,  True,\n",
       "         True,  True,  True,  True,  True,  True,  True,  True,  True,\n",
       "         True,  True,  True,  True,  True,  True,  True,  True,  True,\n",
       "         True,  True,  True,  True,  True,  True,  True,  True,  True,\n",
       "         True,  True,  True,  True,  True,  True,  True,  True,  True,\n",
       "         True,  True,  True,  True,  True,  True,  True,  True,  True,\n",
       "         True,  True,  True,  True,  True,  True,  True,  True,  True,\n",
       "         True,  True,  True,  True,  True,  True,  True,  True,  True,\n",
       "         True,  True,  True,  True,  True], dtype=bool)]"
      ]
     },
     "execution_count": 189,
     "metadata": {},
     "output_type": "execute_result"
    }
   ],
   "source": [
    "[class_member_mask & core_samples_mask]"
   ]
  },
  {
   "cell_type": "markdown",
   "metadata": {},
   "source": [
    "failed to do auto clustering because low density of the data, do back to the rough data"
   ]
  },
  {
   "cell_type": "code",
   "execution_count": 198,
   "metadata": {
    "collapsed": false
   },
   "outputs": [
    {
     "data": {
      "text/plain": [
       "383"
      ]
     },
     "execution_count": 198,
     "metadata": {},
     "output_type": "execute_result"
    }
   ],
   "source": [
    "len([x>36 for x in neigh_num])"
   ]
  },
  {
   "cell_type": "code",
   "execution_count": 199,
   "metadata": {
    "collapsed": false
   },
   "outputs": [
    {
     "data": {
      "text/plain": [
       "383"
      ]
     },
     "execution_count": 199,
     "metadata": {},
     "output_type": "execute_result"
    }
   ],
   "source": [
    "len(X)"
   ]
  },
  {
   "cell_type": "code",
   "execution_count": 209,
   "metadata": {
    "collapsed": false
   },
   "outputs": [],
   "source": [
    "coor_hotspot = []\n",
    "for x in range(len(neigh_num)):\n",
    "    tmp = neigh_num[x]\n",
    "    if tmp > 36:\n",
    "        coor_hotspot.append(X[x])"
   ]
  },
  {
   "cell_type": "code",
   "execution_count": 217,
   "metadata": {
    "collapsed": true
   },
   "outputs": [],
   "source": [
    "GPSco = open('GPSco_hotspot.txt', 'w')\n",
    "for i in range(len(coor_hotspot)):\n",
    "  GPSco.write(\"{}, {};\".format(coor_hotspot[i][1], coor_hotspot[i][0]))"
   ]
  },
  {
   "cell_type": "code",
   "execution_count": 216,
   "metadata": {
    "collapsed": false
   },
   "outputs": [
    {
     "data": {
      "text/plain": [
       "[[-122.334020598, 47.617711722],\n",
       " [-122.334020598, 47.617711722],\n",
       " [-122.337595939, 47.611207077],\n",
       " [-122.323944056, 47.615228075],\n",
       " [-122.336578988, 47.618526649],\n",
       " [-122.311542441, 47.608036017],\n",
       " [-122.32657098, 47.619417974],\n",
       " [-122.336165513, 47.616053298],\n",
       " [-122.316845009, 47.614683851],\n",
       " [-122.322757495, 47.614057458],\n",
       " [-122.326726874, 47.618862793],\n",
       " [-122.325290849, 47.618895884],\n",
       " [-122.326803612, 47.6167093]]"
      ]
     },
     "execution_count": 216,
     "metadata": {},
     "output_type": "execute_result"
    }
   ],
   "source": [
    "coor_hotspot"
   ]
  },
  {
   "cell_type": "code",
   "execution_count": null,
   "metadata": {
    "collapsed": true
   },
   "outputs": [],
   "source": []
  }
 ],
 "metadata": {
  "kernelspec": {
   "display_name": "Python 3",
   "language": "python",
   "name": "python3"
  },
  "language_info": {
   "codemirror_mode": {
    "name": "ipython",
    "version": 3
   },
   "file_extension": ".py",
   "mimetype": "text/x-python",
   "name": "python",
   "nbconvert_exporter": "python",
   "pygments_lexer": "ipython3",
   "version": "3.5.2"
  }
 },
 "nbformat": 4,
 "nbformat_minor": 1
}
